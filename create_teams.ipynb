{
 "cells": [
  {
   "cell_type": "code",
   "execution_count": null,
   "metadata": {},
   "outputs": [],
   "source": [
    "import pandas as pd\n",
    "import random"
   ]
  },
  {
   "cell_type": "code",
   "execution_count": null,
   "metadata": {},
   "outputs": [],
   "source": [
    "def create_teams(data):\n",
    "    positions = ['Goalkeeper', 'Defender', 'Midfielder', 'Attacker']\n",
    "    teams = {'Team A': {}, 'Team B': {}}\n",
    "    \n",
    "    for team in teams:\n",
    "        teams[team] = {position: [] for position in positions}\n",
    "    \n",
    "    for position in positions:\n",
    "        players = data[data['Position'] == position].sort_values('value', ascending=False)\n",
    "        \n",
    "        num_players = 1 if position in ['Goalkeeper', 'Attacker'] else 3\n",
    "        \n",
    "        for i in range(num_players * 2):\n",
    "            target_value = players.iloc[i // 2]['value']\n",
    "            suitable_players = players[\n",
    "                (players['value'] >= target_value - 15) & \n",
    "                (players['value'] <= target_value + 15) &\n",
    "                (~players.index.isin([p.name for team in teams.values() for pos in team.values() for p in pos]))\n",
    "            ]\n",
    "            \n",
    "            if not suitable_players.empty:\n",
    "                player = suitable_players.sample(1).iloc[0]\n",
    "                team = 'Team A' if i % 2 == 0 else 'Team B'\n",
    "                teams[team][position].append(player)\n",
    "            else:\n",
    "                print(f\"Couldn't find a suitable {position} for {'Team A' if i % 2 == 0 else 'Team B'}\")\n",
    "    \n",
    "    return teams\n",
    "\n",
    "def print_teams(teams):\n",
    "    for team_name, team in teams.items():\n",
    "        print(f\"\\n{team_name}:\")\n",
    "        for position, players in team.items():\n",
    "            print(f\"  {position}:\")\n",
    "            for player in players:\n",
    "                print(f\"    - Name: {player['name']}, Age: {player['age']}, Value: {player['value']}, Last performance: {'Good' if player['good_performance'] else 'Bad'}\")\n"
   ]
  },
  {
   "cell_type": "code",
   "execution_count": null,
   "metadata": {},
   "outputs": [],
   "source": [
    "if __name__ == \"__main__\":\n",
    "    # Sample DataFrame with player names\n",
    "    data = pd.read_excel('players.xlsx')\n",
    "    \n",
    "    teams = create_teams(data)\n",
    "    print_teams(teams)"
   ]
  }
 ],
 "metadata": {
  "language_info": {
   "name": "python"
  }
 },
 "nbformat": 4,
 "nbformat_minor": 2
}
